{
 "cells": [
  {
   "cell_type": "code",
   "execution_count": 7,
   "id": "7c886f05",
   "metadata": {},
   "outputs": [],
   "source": [
    "import torch\n",
    "from torch.utils.data import Dataset\n",
    "import string\n",
    "translator = str.maketrans('', '', string.punctuation)\n",
    "import random\n",
    "import glob\n",
    "from PIL import Image\n",
    "import numpy as np\n",
    "from torch.nn.utils.rnn import pad_sequence\n",
    "import pickle\n",
    "import matplotlib.pyplot as plt\n",
    "import clip\n",
    "from PIL import Image\n",
    "\n",
    "FRAME_DIR = '/shared/jlin/gnlp_data/'\n",
    "OUTPUT_DIR = '/shared/jlin/gnlp_data/processed-frames'"
   ]
  },
  {
   "cell_type": "code",
   "execution_count": 8,
   "id": "3366ea58",
   "metadata": {},
   "outputs": [],
   "source": [
    "obj = 0\n",
    "env = 0\n",
    "frames = torch.from_numpy(torch.load(open('{}/obj{}-env{}-center-50x50.pt'.format(OUTPUT_DIR, obj, env), 'rb')))"
   ]
  },
  {
   "cell_type": "code",
   "execution_count": 9,
   "id": "263b000f",
   "metadata": {},
   "outputs": [
    {
     "data": {
      "text/plain": [
       "<matplotlib.image.AxesImage at 0x7f37b03f1f60>"
      ]
     },
     "execution_count": 9,
     "metadata": {},
     "output_type": "execute_result"
    },
    {
     "data": {
      "image/png": "[encoded data removed]",
      "text/plain": [
       "<Figure size 432x288 with 1 Axes>"
      ]
     },
     "metadata": {
      "needs_background": "light"
     },
     "output_type": "display_data"
    }
   ],
   "source": [
    "plt.imshow(frames[10].numpy().transpose(1,2,0))"
   ]
  },
  {
   "cell_type": "code",
   "execution_count": 10,
   "id": "d45b7f08",
   "metadata": {},
   "outputs": [],
   "source": [
    "descriptions = pickle.load(open('{}/{}_descr.pkl'.format(FRAME_DIR, 'train'), 'rb'))"
   ]
  },
  {
   "cell_type": "code",
   "execution_count": 11,
   "id": "11aaef6c",
   "metadata": {},
   "outputs": [
    {
     "data": {
      "text/plain": [
       "['push the button',\n",
       " 'push down the green rod',\n",
       " 'push the green cylinder downward',\n",
       " 'press the button',\n",
       " 'press the vertical button',\n",
       " 'press the green button',\n",
       " 'push the button',\n",
       " 'setting the drawer',\n",
       " 'grab and press down green cylinder piece',\n",
       " 'push the button',\n",
       " 'press the button',\n",
       " 'push the button',\n",
       " 'pushing green object',\n",
       " 'pick up green cylinder',\n",
       " 'press the button',\n",
       " 'push the button',\n",
       " 'push the button',\n",
       " 'push the button',\n",
       " 'press the button',\n",
       " 'press the button',\n",
       " 'press the button',\n",
       " 'push the green circular button',\n",
       " 'push the button under you',\n",
       " 'push the round peg further into the square opening',\n",
       " 'push the round peg down',\n",
       " 'place the grabbers next to the green circle on the blue block',\n",
       " 'push the peg down on the horizontal block',\n",
       " 'press the green button',\n",
       " 'press the button',\n",
       " 'push down the cylinder',\n",
       " 'push the green cylindrical block in the hole',\n",
       " 'press down on the button',\n",
       " 'push the button',\n",
       " 'push the small cylinder down into the blue shape',\n",
       " 'turn the interruptor on']"
      ]
     },
     "execution_count": 11,
     "metadata": {},
     "output_type": "execute_result"
    }
   ],
   "source": [
    "descriptions[0]"
   ]
  },
  {
   "cell_type": "code",
   "execution_count": 44,
   "id": "a85ed6f9",
   "metadata": {},
   "outputs": [
    {
     "name": "stdout",
     "output_type": "stream",
     "text": [
      "               push the button [0.1304  0.11865 0.10974 0.1283  0.1244  0.1866  0.2019 ]\n",
      "       push down the green rod [0.1306 0.1458 0.1348 0.1306 0.1327 0.1576 0.1677]\n",
      "push the green cylinder downward [0.1268  0.1155  0.10846 0.1288  0.1155  0.2261  0.1788 ]\n",
      "              press the button [0.1185  0.11487 0.1014  0.1242  0.1113  0.2249  0.2048 ]\n",
      "     press the vertical button [0.1261  0.11664 0.11304 0.1343  0.11847 0.2079  0.1835 ]\n",
      "        press the green button [0.1251  0.11566 0.1087  0.129   0.1212  0.2095  0.1908 ]\n",
      "               push the button [0.1304  0.11865 0.10974 0.1283  0.1244  0.1866  0.2019 ]\n",
      "            setting the drawer [0.11597 0.1334  0.11066 0.1254  0.11066 0.2035  0.2003 ]\n",
      "grab and press down green cylinder piece [0.11646 0.11285 0.09503 0.1299  0.1012  0.2465  0.1981 ]\n",
      "               push the button [0.1304  0.11865 0.10974 0.1283  0.1244  0.1866  0.2019 ]\n",
      "              press the button [0.1185  0.11487 0.1014  0.1242  0.1113  0.2249  0.2048 ]\n",
      "               push the button [0.1304  0.11865 0.10974 0.1283  0.1244  0.1866  0.2019 ]\n",
      "          pushing green object [0.1157  0.1396  0.1251  0.1292  0.11755 0.1908  0.1821 ]\n",
      "        pick up green cylinder [0.1273 0.142  0.1334 0.1334 0.1234 0.1796 0.1609]\n",
      "              press the button [0.1185  0.11487 0.1014  0.1242  0.1113  0.2249  0.2048 ]\n",
      "               push the button [0.1304  0.11865 0.10974 0.1283  0.1244  0.1866  0.2019 ]\n",
      "               push the button [0.1304  0.11865 0.10974 0.1283  0.1244  0.1866  0.2019 ]\n",
      "               push the button [0.1304  0.11865 0.10974 0.1283  0.1244  0.1866  0.2019 ]\n",
      "              press the button [0.1185  0.11487 0.1014  0.1242  0.1113  0.2249  0.2048 ]\n",
      "              press the button [0.1185  0.11487 0.1014  0.1242  0.1113  0.2249  0.2048 ]\n",
      "              press the button [0.1185  0.11487 0.1014  0.1242  0.1113  0.2249  0.2048 ]\n",
      "push the green circular button [0.1259 0.122  0.1182 0.1299 0.1259 0.195  0.1831]\n",
      "     push the button under you [0.1355  0.11957 0.1159  0.1313  0.1273  0.1794  0.191  ]\n",
      "push the round peg further into the square opening [0.12195 0.1128  0.10596 0.1318  0.1093  0.2351  0.1831 ]\n",
      "       push the round peg down [0.1247 0.1135 0.105  0.1306 0.1171 0.2189 0.1902]\n",
      "place the grabbers next to the green circle on the blue block [0.1354 0.1272 0.142  0.142  0.1354 0.174  0.1442]\n",
      "push the peg down on the horizontal block [0.126   0.11646 0.1129  0.1362  0.1147  0.2076  0.1862 ]\n",
      "        press the green button [0.1251  0.11566 0.1087  0.129   0.1212  0.2095  0.1908 ]\n",
      "              press the button [0.1185  0.11487 0.1014  0.1242  0.1113  0.2249  0.2048 ]\n",
      "        push down the cylinder [0.1304 0.1304 0.1187 0.1304 0.1225 0.1838 0.1838]\n",
      "push the green cylindrical block in the hole [0.1361 0.134  0.132  0.1404 0.1182 0.1803 0.159 ]\n",
      "      press down on the button [0.1184  0.10785 0.0967  0.1261  0.11127 0.2319  0.2079 ]\n",
      "               push the button [0.1304  0.11865 0.10974 0.1283  0.1244  0.1866  0.2019 ]\n",
      "push the small cylinder down into the blue shape [0.1469 0.1359 0.1296 0.138  0.1296 0.1613 0.1588]\n",
      "       turn the interruptor on [0.1393 0.153  0.1505 0.1393 0.1393 0.1328 0.1459]\n",
      "                     Average:  [0.1263 0.1218 0.1129 0.1298 0.1196 0.2    0.1896]\n"
     ]
    },
    {
     "data": {
      "image/png": "[encoded data removed]",
      "text/plain": [
       "<Figure size 2304x2304 with 7 Axes>"
      ]
     },
     "metadata": {
      "needs_background": "light"
     },
     "output_type": "display_data"
    }
   ],
   "source": [
    "device = \"cuda\" if torch.cuda.is_available() else \"cpu\"\n",
    "model, preprocess = clip.load(\"ViT-B/32\", device=device)\n",
    "images = []\n",
    "frame_skip = 20\n",
    "fig = plt.figure(figsize=(32, 32))\n",
    "columns = len(frames)//frame_skip + 1\n",
    "rows = 1\n",
    "\n",
    "for i in range(0, len(frames), frame_skip):\n",
    "    img = frames[i].numpy().transpose(1,2,0)\n",
    "    fig.add_subplot(rows, columns, i//frame_skip + 1)\n",
    "    ax = plt.gca()\n",
    "    ax.axes.xaxis.set_visible(False)\n",
    "    ax.axes.yaxis.set_visible(False)\n",
    "    plt.imshow(img)\n",
    "    image = preprocess(Image.fromarray(np.uint8(img))).unsqueeze(0).to(device)\n",
    "    images.append(image)\n",
    "\n",
    "images = torch.cat(images)\n",
    "text = clip.tokenize(descriptions[0]).to(device)\n",
    "\n",
    "with torch.no_grad():\n",
    "    logits_per_image, logits_per_text = model(images, text)\n",
    "    probs = logits_per_text.softmax(dim=-1).cpu().numpy()\n",
    "\n",
    "for i in range(len(probs)):\n",
    "    print(descriptions[0][i].rjust(30), probs[i])\n",
    "\n",
    "print(\"Average: \".rjust(30), probs.mean(0))\n",
    "plt.show()"
   ]
  },
  {
   "cell_type": "code",
   "execution_count": null,
   "id": "3485b287",
   "metadata": {},
   "outputs": [],
   "source": []
  }
 ],
 "metadata": {
  "kernelspec": {
   "display_name": "Python 3 (ipykernel)",
   "language": "python",
   "name": "python3"
  },
  "language_info": {
   "codemirror_mode": {
    "name": "ipython",
    "version": 3
   },
   "file_extension": ".py",
   "mimetype": "text/x-python",
   "name": "python",
   "nbconvert_exporter": "python",
   "pygments_lexer": "ipython3",
   "version": "3.7.0"
  }
 },
 "nbformat": 4,
 "nbformat_minor": 5
}
